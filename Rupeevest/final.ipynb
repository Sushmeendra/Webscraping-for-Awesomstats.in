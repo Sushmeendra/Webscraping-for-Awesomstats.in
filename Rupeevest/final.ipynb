{
 "cells": [
  {
   "cell_type": "code",
   "execution_count": 19,
   "metadata": {},
   "outputs": [
    {
     "name": "stderr",
     "output_type": "stream",
     "text": [
      "C:\\Users\\rsushmeendra\\Anaconda3\\lib\\site-packages\\bs4\\__init__.py:181: UserWarning: No parser was explicitly specified, so I'm using the best available HTML parser for this system (\"lxml\"). This usually isn't a problem, but if you run this code on another system, or in a different virtual environment, it may use a different parser and behave differently.\n",
      "\n",
      "The code that caused this warning is on line 193 of the file C:\\Users\\rsushmeendra\\Anaconda3\\lib\\runpy.py. To get rid of this warning, change code that looks like this:\n",
      "\n",
      " BeautifulSoup(YOUR_MARKUP})\n",
      "\n",
      "to this:\n",
      "\n",
      " BeautifulSoup(YOUR_MARKUP, \"lxml\")\n",
      "\n",
      "  markup_type=markup_type))\n"
     ]
    }
   ],
   "source": [
    "import requests\n",
    "from bs4 import BeautifulSoup\n",
    "import pandas as pd\n",
    "\n",
    "html = requests.get('http://www.moneycontrol.com/mutual-funds/performance-tracker/returns/large-cap.html').text\n",
    "bs = BeautifulSoup(html)\n",
    "\n",
    "#scraping links from table only\n",
    "p_l = bs.find_all('a',{'class':'bl_12'})\n",
    "\n",
    "link_extensions = []\n",
    "\n",
    "for link in p_l:\n",
    "    if link.has_attr('href'):\n",
    "        #print(link.attrs['href'])\n",
    "        link_extensions.append(link.attrs['href'])\n",
    "\n",
    "        \n",
    "#now the list 'link_extensions' has links that must be appended to the main url in\n",
    "#order to get the full link url"
   ]
  },
  {
   "cell_type": "code",
   "execution_count": 21,
   "metadata": {},
   "outputs": [],
   "source": [
    "#generating list of final links\n",
    "\n",
    "main_url = 'http://www.moneycontrol.com'\n",
    "\n",
    "final_urls = []\n",
    "\n",
    "for link in link_extensions:\n",
    "    final_urls.append(main_url + link)\n",
    "\n"
   ]
  },
  {
   "cell_type": "code",
   "execution_count": null,
   "metadata": {},
   "outputs": [],
   "source": [
    "#Scraping Portfolio data\n",
    "\n"
   ]
  }
 ],
 "metadata": {
  "kernelspec": {
   "display_name": "Python 3",
   "language": "python",
   "name": "python3"
  },
  "language_info": {
   "codemirror_mode": {
    "name": "ipython",
    "version": 3
   },
   "file_extension": ".py",
   "mimetype": "text/x-python",
   "name": "python",
   "nbconvert_exporter": "python",
   "pygments_lexer": "ipython3",
   "version": "3.6.5"
  }
 },
 "nbformat": 4,
 "nbformat_minor": 2
}
